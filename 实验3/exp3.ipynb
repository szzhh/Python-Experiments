{
 "cells": [
  {
   "cell_type": "code",
   "execution_count": 7,
   "metadata": {},
   "outputs": [
    {
     "name": "stdout",
     "output_type": "stream",
     "text": [
      "9号下船了，船上还有29人\n",
      "18号下船了，船上还有28人\n",
      "27号下船了，船上还有27人\n",
      "6号下船了，船上还有26人\n",
      "16号下船了，船上还有25人\n",
      "26号下船了，船上还有24人\n",
      "7号下船了，船上还有23人\n",
      "19号下船了，船上还有22人\n",
      "30号下船了，船上还有21人\n",
      "12号下船了，船上还有20人\n",
      "24号下船了，船上还有19人\n",
      "8号下船了，船上还有18人\n",
      "22号下船了，船上还有17人\n",
      "5号下船了，船上还有16人\n",
      "23号下船了，船上还有15人\n"
     ]
    }
   ],
   "source": [
    "flag = 0\n",
    "nums = 30\n",
    "n = 1\n",
    "lst = [1 for i in range(32)]\n",
    "\n",
    "while nums > 15:\n",
    "    if lst[n] == 1:\n",
    "        flag=flag + 1\n",
    "    if flag == 9:\n",
    "        flag = 0\n",
    "        lst[n] = 0\n",
    "        nums = nums -1\n",
    "        print('{}号下船了，船上还有{}人'.format(n,nums))\n",
    "    n = n + 1\n",
    "    if n==31:\n",
    "        n = 1"
   ]
  },
  {
   "cell_type": "code",
   "execution_count": null,
   "metadata": {},
   "outputs": [],
   "source": []
  }
 ],
 "metadata": {
  "kernelspec": {
   "display_name": "szh",
   "language": "python",
   "name": "python3"
  },
  "language_info": {
   "codemirror_mode": {
    "name": "ipython",
    "version": 3
   },
   "file_extension": ".py",
   "mimetype": "text/x-python",
   "name": "python",
   "nbconvert_exporter": "python",
   "pygments_lexer": "ipython3",
   "version": "3.9.12 | packaged by conda-forge | (main, Mar 24 2022, 23:17:03) [MSC v.1929 64 bit (AMD64)]"
  },
  "orig_nbformat": 4,
  "vscode": {
   "interpreter": {
    "hash": "4fd42711a2e3f996a23cc31e0821bdaf13b16e29b62b2c68c05b3a5213dd0b8a"
   }
  }
 },
 "nbformat": 4,
 "nbformat_minor": 2
}
