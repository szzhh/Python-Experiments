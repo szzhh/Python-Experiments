{
 "cells": [
  {
   "cell_type": "code",
   "execution_count": 122,
   "metadata": {},
   "outputs": [
    {
     "name": "stdout",
     "output_type": "stream",
     "text": [
      "300 (25, 12)\n"
     ]
    }
   ],
   "source": [
    "import pandas as pd\n",
    "# 导入数据\n",
    "df = pd.read_csv(open(\"./top250_1.csv\", encoding='utf8'), sep=',',dtype=str)\n",
    "print(df.size, df.shape)"
   ]
  },
  {
   "cell_type": "code",
   "execution_count": 94,
   "metadata": {},
   "outputs": [
    {
     "name": "stdout",
     "output_type": "stream",
     "text": [
      "[('诺兰', 0.19716323131621158), ('电影', 0.07044173092306484), ('科幻', 0.06221317575672355), ('2001', 0.04896150513133105), ('科幻片', 0.04806236143218431), ('情感', 0.04576919117301707), ('穿越', 0.04500311501007508), ('太空', 0.043693011793259386), ('星际', 0.04323585782690785), ('配乐', 0.03700815366059385), ('人类', 0.03651284204924915), ('宇宙', 0.03520710137764505), ('神作', 0.03264100342088737), ('黑洞', 0.03200986032399317), ('海瑟薇', 0.028560877993276446), ('马修', 0.028491308530238908), ('时间', 0.026454352565440275), ('维度', 0.025084082557030714), ('视觉', 0.024704675930856655), ('麦康纳', 0.024480752565665526), ('IMAX', 0.024480752565665526), ('人性', 0.022326532559781568), ('亲情', 0.019466679516655292), ('煽情', 0.01898991284931741), ('观影', 0.018525862140443685), ('宏大', 0.01800969046705802), ('剪辑', 0.017917201826450513), ('叙事', 0.0176993493787372), ('超时空', 0.017084482308395904), ('致敬', 0.016376471943293516), ('NASA', 0.016320501710443684), ('三体', 0.016320501710443684), ('烧脑', 0.016320501710443684)]\n"
     ]
    },
    {
     "data": {
      "text/plain": [
       "'c:\\\\Users\\\\szh\\\\Desktop\\\\大四上\\\\python程序设计\\\\实验\\\\实验四\\\\星际穿越.html'"
      ]
     },
     "execution_count": 94,
     "metadata": {},
     "output_type": "execute_result"
    }
   ],
   "source": [
    "import jieba\n",
    "import jieba.analyse\n",
    "import copy\n",
    "\n",
    "n=9\n",
    "lst=[]\n",
    "name = df['电影中文名'][n]\n",
    "lst.append(df['简介'][n])\n",
    "short = eval(df['短评'][n])\n",
    "for i in range(len(short)):\n",
    "    lst.append(short[i][0])\n",
    "ss=''.join(lst)\n",
    "tags = jieba.analyse.extract_tags(ss,topK=40,withWeight=True)\n",
    "#去停用词\n",
    "f = open('./stopwords.txt',mode='r',encoding='UTF-8')\n",
    "lsst = list(f)\n",
    "f.close()\n",
    "lsst = [i.strip() for i in lsst]\n",
    "tagss = copy.deepcopy(tags)\n",
    "for i in range(len(tagss)):\n",
    "    if tagss[i][0] in lsst:\n",
    "        tags.remove(tagss[i])\n",
    "print(tags)\n",
    "#绘制词云\n",
    "import pyecharts.options as opts\n",
    "from pyecharts.charts import WordCloud\n",
    "\n",
    "(\n",
    "    WordCloud()\n",
    "    .add(series_name=name, data_pair=tags, word_size_range=[25,80],width=1200,height=600)\n",
    "    .set_global_opts(\n",
    "        title_opts=opts.TitleOpts(\n",
    "            title=name, title_textstyle_opts=opts.TextStyleOpts(font_size=40)\n",
    "        ),\n",
    "        tooltip_opts=opts.TooltipOpts(is_show=True),\n",
    "    )\n",
    "\n",
    "    .render(name+\".html\")\n",
    "    \n",
    ")\n"
   ]
  },
  {
   "cell_type": "code",
   "execution_count": 121,
   "metadata": {},
   "outputs": [
    {
     "name": "stdout",
     "output_type": "stream",
     "text": [
      "['美丽人生', '三傻大闹宝莱坞', '疯狂动物城', '大话西游之大圣娶亲', '触不可及', '怦然心动']\n",
      "['肖申克的救赎', '这个杀手不太冷', '无间道', '控方证人', '教父']\n"
     ]
    }
   ],
   "source": [
    "df = pd.read_csv(open(\"./top250_1.csv\", encoding='utf8'), sep=',',dtype=str)\n",
    "a=[]\n",
    "b=[]\n",
    "for i in range(25):\n",
    "    if '喜剧'in df['剧情类型'][i].split():\n",
    "        a.append(df['电影中文名'][i])\n",
    "    elif '犯罪'in df['剧情类型'][i].split():\n",
    "        b.append(df['电影中文名'][i])\n",
    "print(a)\n",
    "print(b)"
   ]
  },
  {
   "cell_type": "code",
   "execution_count": 3,
   "metadata": {},
   "outputs": [],
   "source": [
    "import pandas as pd\n",
    "import numpy as np\n",
    "\n",
    "h1 = pd.read_csv(\"top250_1.csv\")\n",
    "h2 = pd.read_csv(\"top250_2.csv\")\n",
    "h3 = pd.read_csv(\"top250_3.csv\")\n",
    "h4 = pd.read_csv(\"top250_4.csv\")\n",
    "h5 = pd.read_csv(\"top250_5.csv\")\n",
    "h6 = pd.read_csv(\"top250_6.csv\")\n",
    "h7 = pd.read_csv(\"top250_7.csv\")\n",
    "h8 = pd.read_csv(\"top250_8.csv\")\n",
    "h9 = pd.read_csv(\"top250_9.csv\")\n",
    "h10 = pd.read_csv(\"top250_10.csv\")\n",
    "\n",
    "df = pd.concat([h1,h2,h3,h4,h5,h6,h7,h8,h9,h10])\n",
    "df.to_csv('test.csv',encoding = 'utf-8',index=0)"
   ]
  },
  {
   "cell_type": "code",
   "execution_count": null,
   "metadata": {},
   "outputs": [],
   "source": []
  }
 ],
 "metadata": {
  "kernelspec": {
   "display_name": "szh",
   "language": "python",
   "name": "python3"
  },
  "language_info": {
   "codemirror_mode": {
    "name": "ipython",
    "version": 3
   },
   "file_extension": ".py",
   "mimetype": "text/x-python",
   "name": "python",
   "nbconvert_exporter": "python",
   "pygments_lexer": "ipython3",
   "version": "3.9.12 | packaged by conda-forge | (main, Mar 24 2022, 23:17:03) [MSC v.1929 64 bit (AMD64)]"
  },
  "orig_nbformat": 4,
  "vscode": {
   "interpreter": {
    "hash": "4fd42711a2e3f996a23cc31e0821bdaf13b16e29b62b2c68c05b3a5213dd0b8a"
   }
  }
 },
 "nbformat": 4,
 "nbformat_minor": 2
}
