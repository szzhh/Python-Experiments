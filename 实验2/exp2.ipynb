{
 "cells": [
  {
   "cell_type": "code",
   "execution_count": 3,
   "metadata": {},
   "outputs": [
    {
     "name": "stdout",
     "output_type": "stream",
     "text": [
      "[3, 4, 2, 3]： False\n",
      "[1, 3, 2, 4]： True\n"
     ]
    }
   ],
   "source": [
    "def check(lst):\n",
    "    flag = 0\n",
    "    for i in range(len(lst)-1):\n",
    "        if lst[i] > lst[i+1]:\n",
    "            flag += 1\n",
    "        \n",
    "        if flag > 1:\n",
    "            return False\n",
    "        if i in [0, len(lst)-2] or lst[i] <= lst[i+2] or lst[i-1] <= lst[i+1]:\n",
    "            continue\n",
    "        return False\n",
    "    return True\n",
    "\n",
    "print('[3, 4, 2, 3]：',check([3, 4, 2, 3]))\n",
    "print('[1, 3, 2, 4]：',check([1, 3, 2]))\n"
   ]
  },
  {
   "cell_type": "code",
   "execution_count": null,
   "metadata": {},
   "outputs": [],
   "source": []
  }
 ],
 "metadata": {
  "kernelspec": {
   "display_name": "szh",
   "language": "python",
   "name": "python3"
  },
  "language_info": {
   "codemirror_mode": {
    "name": "ipython",
    "version": 3
   },
   "file_extension": ".py",
   "mimetype": "text/x-python",
   "name": "python",
   "nbconvert_exporter": "python",
   "pygments_lexer": "ipython3",
   "version": "3.9.12 | packaged by conda-forge | (main, Mar 24 2022, 23:17:03) [MSC v.1929 64 bit (AMD64)]"
  },
  "orig_nbformat": 4,
  "vscode": {
   "interpreter": {
    "hash": "4fd42711a2e3f996a23cc31e0821bdaf13b16e29b62b2c68c05b3a5213dd0b8a"
   }
  }
 },
 "nbformat": 4,
 "nbformat_minor": 2
}
