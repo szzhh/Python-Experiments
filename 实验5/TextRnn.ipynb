{
 "cells": [
  {
   "attachments": {},
   "cell_type": "markdown",
   "metadata": {},
   "source": [
    "## 训练TextRNN"
   ]
  },
  {
   "cell_type": "code",
   "execution_count": 1,
   "metadata": {},
   "outputs": [
    {
     "name": "stdout",
     "output_type": "stream",
     "text": [
      "Loading data...\n",
      "Vocab size: 4762\n"
     ]
    },
    {
     "name": "stderr",
     "output_type": "stream",
     "text": [
      "6928it [00:00, 37390.74it/s]\n",
      "866it [00:00, 50790.29it/s]\n",
      "866it [00:00, 48071.30it/s]\n"
     ]
    },
    {
     "name": "stdout",
     "output_type": "stream",
     "text": [
      "Time usage: 0:00:00\n",
      "<bound method Module.parameters of Model(\n",
      "  (embedding): Embedding(4762, 300)\n",
      "  (lstm): LSTM(300, 128, num_layers=2, batch_first=True, dropout=0.5, bidirectional=True)\n",
      "  (fc): Linear(in_features=256, out_features=2, bias=True)\n",
      ")>\n",
      "Epoch [1/20]\n",
      "Iter:      0,  Train Loss:  0.68,  Train Acc: 58.59%,  Val Loss:  0.68,  Val Acc: 56.93%,  Time: 0:00:02 *\n",
      "Epoch [2/20]\n",
      "Iter:     55,  Train Loss:  0.66,  Train Acc: 63.28%,  Val Loss:  0.67,  Val Acc: 58.08%,  Time: 0:00:31 *\n",
      "Epoch [3/20]\n",
      "Iter:    110,  Train Loss:  0.64,  Train Acc: 67.19%,  Val Loss:  0.75,  Val Acc: 62.82%,  Time: 0:00:59 \n",
      "Epoch [4/20]\n",
      "Iter:    165,  Train Loss:  0.55,  Train Acc: 64.84%,  Val Loss:   0.6,  Val Acc: 71.25%,  Time: 0:01:27 *\n",
      "Epoch [5/20]\n",
      "Iter:    220,  Train Loss:  0.48,  Train Acc: 77.34%,  Val Loss:  0.58,  Val Acc: 70.67%,  Time: 0:01:57 *\n",
      "Epoch [6/20]\n",
      "Iter:    275,  Train Loss:  0.35,  Train Acc: 87.50%,  Val Loss:   0.6,  Val Acc: 70.32%,  Time: 0:02:30 \n",
      "Epoch [7/20]\n",
      "Iter:    330,  Train Loss:  0.36,  Train Acc: 83.59%,  Val Loss:  0.65,  Val Acc: 72.40%,  Time: 0:03:04 \n",
      "Epoch [8/20]\n",
      "Iter:    385,  Train Loss:  0.31,  Train Acc: 87.50%,  Val Loss:  0.71,  Val Acc: 70.44%,  Time: 0:03:31 \n",
      "Epoch [9/20]\n",
      "Iter:    440,  Train Loss:  0.38,  Train Acc: 84.38%,  Val Loss:  0.82,  Val Acc: 67.78%,  Time: 0:04:00 \n",
      "Epoch [10/20]\n",
      "Iter:    495,  Train Loss:  0.26,  Train Acc: 91.41%,  Val Loss:   1.1,  Val Acc: 66.28%,  Time: 0:04:30 \n",
      "Epoch [11/20]\n",
      "Iter:    550,  Train Loss:  0.16,  Train Acc: 92.97%,  Val Loss:   1.3,  Val Acc: 67.44%,  Time: 0:05:04 \n",
      "Epoch [12/20]\n",
      "Iter:    605,  Train Loss:  0.17,  Train Acc: 93.75%,  Val Loss:   1.2,  Val Acc: 68.24%,  Time: 0:05:39 \n",
      "Epoch [13/20]\n",
      "Iter:    660,  Train Loss:   0.2,  Train Acc: 90.62%,  Val Loss:   1.1,  Val Acc: 69.86%,  Time: 0:06:14 \n",
      "Epoch [14/20]\n",
      "Iter:    715,  Train Loss:  0.12,  Train Acc: 95.31%,  Val Loss:   1.0,  Val Acc: 66.51%,  Time: 0:06:48 \n",
      "Epoch [15/20]\n",
      "Iter:    770,  Train Loss: 0.073,  Train Acc: 98.44%,  Val Loss:   1.3,  Val Acc: 66.05%,  Time: 0:07:23 \n",
      "Epoch [16/20]\n",
      "Iter:    825,  Train Loss: 0.059,  Train Acc: 98.44%,  Val Loss:   1.5,  Val Acc: 66.97%,  Time: 0:07:58 \n",
      "Epoch [17/20]\n",
      "Iter:    880,  Train Loss: 0.077,  Train Acc: 96.88%,  Val Loss:   1.5,  Val Acc: 68.71%,  Time: 0:08:33 \n",
      "Epoch [18/20]\n",
      "Iter:    935,  Train Loss: 0.047,  Train Acc: 98.44%,  Val Loss:   1.6,  Val Acc: 69.40%,  Time: 0:09:07 \n",
      "Epoch [19/20]\n",
      "Iter:    990,  Train Loss: 0.035,  Train Acc: 99.22%,  Val Loss:   1.6,  Val Acc: 70.21%,  Time: 0:09:42 \n",
      "Epoch [20/20]\n",
      "Iter:   1045,  Train Loss: 0.049,  Train Acc: 97.66%,  Val Loss:   1.6,  Val Acc: 67.67%,  Time: 0:10:18 \n",
      "Test Loss:  0.62,  Test Acc: 67.32%\n",
      "Precision, Recall and F1-Score...\n",
      "              precision    recall  f1-score   support\n",
      "\n",
      "      comedy     0.8393    0.5739    0.6817       528\n",
      "       crime     0.5545    0.8284    0.6643       338\n",
      "\n",
      "    accuracy                         0.6732       866\n",
      "   macro avg     0.6969    0.7011    0.6730       866\n",
      "weighted avg     0.7281    0.6732    0.6749       866\n",
      "\n",
      "Confusion Matrix...\n",
      "[[303 225]\n",
      " [ 58 280]]\n",
      "Time usage: 0:00:02\n"
     ]
    }
   ],
   "source": [
    "%run run.py"
   ]
  },
  {
   "cell_type": "code",
   "execution_count": null,
   "metadata": {},
   "outputs": [],
   "source": []
  }
 ],
 "metadata": {
  "kernelspec": {
   "display_name": "szh",
   "language": "python",
   "name": "python3"
  },
  "language_info": {
   "codemirror_mode": {
    "name": "ipython",
    "version": 3
   },
   "file_extension": ".py",
   "mimetype": "text/x-python",
   "name": "python",
   "nbconvert_exporter": "python",
   "pygments_lexer": "ipython3",
   "version": "3.9.12 | packaged by conda-forge | (main, Mar 24 2022, 23:17:03) [MSC v.1929 64 bit (AMD64)]"
  },
  "orig_nbformat": 4,
  "vscode": {
   "interpreter": {
    "hash": "4fd42711a2e3f996a23cc31e0821bdaf13b16e29b62b2c68c05b3a5213dd0b8a"
   }
  }
 },
 "nbformat": 4,
 "nbformat_minor": 2
}
