{
 "cells": [
  {
   "cell_type": "code",
   "execution_count": 1,
   "metadata": {},
   "outputs": [
    {
     "name": "stdout",
     "output_type": "stream",
     "text": [
      "3000 (250, 12)\n"
     ]
    }
   ],
   "source": [
    "import pandas as pd\n",
    "import random\n",
    "# 导入数据\n",
    "df = pd.read_csv(open(\"./Top250.csv\", encoding='utf8'), sep=',',dtype=str)\n",
    "print(df.size, df.shape)"
   ]
  },
  {
   "attachments": {},
   "cell_type": "markdown",
   "metadata": {},
   "source": [
    "## 生成机器学习数据"
   ]
  },
  {
   "cell_type": "code",
   "execution_count": 4,
   "metadata": {},
   "outputs": [],
   "source": [
    "lst=[]\n",
    "for i in range(df.shape[0]):\n",
    "    if '喜剧'in df['剧情类型'][i].split():\n",
    "        short1=eval(df['短评'][i])\n",
    "        for j in range(len(short1)):\n",
    "            lst.append(['喜剧',short1[j][0]])\n",
    "    elif '犯罪'in df['剧情类型'][i].split():\n",
    "        short2=eval(df['短评'][i])\n",
    "        for j in range(len(short2)):\n",
    "            lst.append(['犯罪',short2[j][0]])\n",
    "random.shuffle(lst)\n",
    "\n",
    "def savetxt(data,filename):\n",
    "    t=''\n",
    "    with open (filename,'w',encoding='utf-8') as q:\n",
    "        for i in data:\n",
    "            for e in range(len(data[0])):\n",
    "                t=t+str(i[e])+'\\t'\n",
    "            q.write(t.strip(' '))\n",
    "            q.write('\\n')\n",
    "            t=''\n",
    "savetxt(lst[:int(len(lst)*0.1)],'./mldata/test.txt')\n",
    "savetxt(lst[int(len(lst)*0.1):int(len(lst)*0.2)],'./mldata/val.txt')\n",
    "savetxt(lst[int(len(lst)*0.2):],'./mldata/train.txt')"
   ]
  },
  {
   "attachments": {},
   "cell_type": "markdown",
   "metadata": {},
   "source": [
    "## 生成深度学习数据"
   ]
  },
  {
   "cell_type": "code",
   "execution_count": null,
   "metadata": {},
   "outputs": [],
   "source": [
    "lst=[]\n",
    "for i in range(df.shape[0]):\n",
    "    if '喜剧'in df['剧情类型'][i].split():\n",
    "        short1=eval(df['短评'][i])\n",
    "        for j in range(len(short1)):\n",
    "            lst.append([short1[j][0],'0'])\n",
    "    elif '犯罪'in df['剧情类型'][i].split():\n",
    "        short2=eval(df['短评'][i])\n",
    "        for j in range(len(short2)):\n",
    "            lst.append([short2[j][0],'1'])\n",
    "random.shuffle(lst)\n",
    "\n",
    "def savetxt(data,filename):\n",
    "    t=''\n",
    "    with open (filename,'w',encoding='utf-8') as q:\n",
    "        for i in data:\n",
    "            for e in range(len(data[0])):\n",
    "                t=t+str(i[e])+'\\t'\n",
    "            q.write(t.strip(' '))\n",
    "            q.write('\\n')\n",
    "            t=''\n",
    "savetxt(lst[:int(len(lst)*0.1)],'./mydata/data/test.txt')\n",
    "savetxt(lst[int(len(lst)*0.1):int(len(lst)*0.2)],'./mydata/data/dev.txt')\n",
    "savetxt(lst[int(len(lst)*0.2):],'./mydata/data/train.txt')"
   ]
  }
 ],
 "metadata": {
  "kernelspec": {
   "display_name": "szh",
   "language": "python",
   "name": "python3"
  },
  "language_info": {
   "codemirror_mode": {
    "name": "ipython",
    "version": 3
   },
   "file_extension": ".py",
   "mimetype": "text/x-python",
   "name": "python",
   "nbconvert_exporter": "python",
   "pygments_lexer": "ipython3",
   "version": "3.9.12 | packaged by conda-forge | (main, Mar 24 2022, 23:17:03) [MSC v.1929 64 bit (AMD64)]"
  },
  "orig_nbformat": 4,
  "vscode": {
   "interpreter": {
    "hash": "4fd42711a2e3f996a23cc31e0821bdaf13b16e29b62b2c68c05b3a5213dd0b8a"
   }
  }
 },
 "nbformat": 4,
 "nbformat_minor": 2
}
