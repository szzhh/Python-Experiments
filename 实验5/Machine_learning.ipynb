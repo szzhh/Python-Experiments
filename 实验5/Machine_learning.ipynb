{
 "cells": [
  {
   "attachments": {},
   "cell_type": "markdown",
   "metadata": {},
   "source": [
    "## 分词、去停用词"
   ]
  },
  {
   "cell_type": "code",
   "execution_count": 1,
   "metadata": {},
   "outputs": [
    {
     "name": "stderr",
     "output_type": "stream",
     "text": [
      "Building prefix dict from the default dictionary ...\n",
      "Loading model from cache C:\\Users\\szh\\AppData\\Local\\Temp\\jieba.cache\n",
      "Loading model cost 0.790 seconds.\n",
      "Prefix dict has been built successfully.\n"
     ]
    },
    {
     "name": "stdout",
     "output_type": "stream",
     "text": [
      "./mldata/test.txt has been token and token_file_name is ./mldata/test_token.txt\n",
      "./mldata/val.txt has been token and token_file_name is ./mldata/val_token.txt\n",
      "./mldata/train.txt has been token and token_file_name is ./mldata/train_token.txt\n",
      "Sub-process(es) done.\n"
     ]
    }
   ],
   "source": [
    "import multiprocessing\n",
    "import jieba\n",
    "\n",
    "datapath = './mldata/'\n",
    "file_list = [datapath+'test.txt',datapath+'val.txt',datapath+'train.txt']\n",
    "write_list = [datapath+'test_token.txt',datapath+'val_token.txt',datapath+'train_token.txt']\n",
    "\n",
    "def tokenFile(file_path, write_path):\n",
    "    # word_divider = WordCut()\n",
    "    with open(write_path, 'w',encoding='utf-8') as w:\n",
    "        with open(file_path, 'r',encoding='utf-8') as f:\n",
    "            for line in f.readlines():\n",
    "                line = line.strip()\n",
    "                token_sen = jieba.lcut(line.split('\\t')[1])\n",
    "                w.write(line.split('\\t')[0] + '\\t' + str(token_sen) + '\\n') \n",
    "    print (file_path + ' has been token and token_file_name is ' + write_path)\n",
    "\n",
    "pool = multiprocessing.Pool(processes=4)\n",
    "for file_path, write_path in zip(file_list, write_list):\n",
    "    pool.apply_async(tokenFile(file_path, write_path))\n",
    "pool.close()\n",
    "pool.join() # 调用join()之前必须先调用close()\n",
    "print( \"Sub-process(es) done.\")\n"
   ]
  },
  {
   "attachments": {},
   "cell_type": "markdown",
   "metadata": {},
   "source": [
    "## 文本向量化 tf-idf"
   ]
  },
  {
   "cell_type": "code",
   "execution_count": 2,
   "metadata": {},
   "outputs": [
    {
     "name": "stdout",
     "output_type": "stream",
     "text": [
      "length of corpus is: 8660\n",
      "how many words: 32848\n",
      "tf-idf shape: (8660,32848)\n"
     ]
    }
   ],
   "source": [
    "from sklearn.feature_extraction.text import TfidfTransformer\n",
    "from sklearn.feature_extraction.text import CountVectorizer\n",
    "\n",
    "def constructDataset(path):\n",
    "    \"\"\"\n",
    "    path: file path\n",
    "    rtype: lable_list and corpus_list\n",
    "    \"\"\"\n",
    "    label_list = []\n",
    "    corpus_list = []\n",
    "    with open(path, 'r',encoding='utf-8') as p:\n",
    "        for line in p.readlines():\n",
    "            label_list.append(line.split('\\t')[0])\n",
    "            corpus_list.append(line.split('\\t')[1])\n",
    "    return label_list, corpus_list\n",
    "\n",
    "datapath = './mldata/'\n",
    "write_list = [datapath+'train_token.txt', datapath+'test_token.txt',  datapath+'val_token.txt']\n",
    "\n",
    "train_label, train_set = constructDataset(write_list[0]) # 50000\n",
    "test_label, test_set = constructDataset(write_list[1]) # 10000\n",
    "val_label, val_set = constructDataset(write_list[2])\n",
    "# 计算tf-idf\n",
    "corpus_set = train_set + val_set + test_set # 全量计算tf-idf\n",
    "print (\"length of corpus is: \" + str(len(corpus_set)))\n",
    "vectorizer = CountVectorizer(min_df=1e-5) # drop df < 1e-5,去低频词\n",
    "transformer = TfidfTransformer()\n",
    "tfidf = transformer.fit_transform(vectorizer.fit_transform(corpus_set))\n",
    "words = vectorizer.get_feature_names_out()\n",
    "print (\"how many words: {0}\".format(len(words)))\n",
    "print (\"tf-idf shape: ({0},{1})\".format(tfidf.shape[0], tfidf.shape[1]))\n"
   ]
  },
  {
   "attachments": {},
   "cell_type": "markdown",
   "metadata": {},
   "source": [
    "## 构建训练集和测试集"
   ]
  },
  {
   "cell_type": "code",
   "execution_count": 3,
   "metadata": {},
   "outputs": [
    {
     "name": "stdout",
     "output_type": "stream",
     "text": [
      "6928\n",
      "866\n",
      "866\n"
     ]
    }
   ],
   "source": [
    "from sklearn import preprocessing\n",
    "\n",
    "# encode label\n",
    "corpus_label = train_label + val_label + test_label\n",
    "encoder = preprocessing.LabelEncoder()\n",
    "corpus_encode_label = encoder.fit_transform(corpus_label)\n",
    "train_label = corpus_encode_label[:int(len(corpus_set)*0.8)]\n",
    "val_label = corpus_encode_label[int(len(corpus_set)*0.8):int(len(corpus_set)*0.9)]\n",
    "test_label = corpus_encode_label[int(len(corpus_set)*0.9):]\n",
    "# get tf-idf dataset\n",
    "train_set = tfidf[:int(len(corpus_set)*0.8)]\n",
    "val_set = tfidf[int(len(corpus_set)*0.8):int(len(corpus_set)*0.9)]\n",
    "test_set = tfidf[int(len(corpus_set)*0.9):]\n",
    "print(len(train_label))\n",
    "print(len(val_label))\n",
    "print(len(test_label))\n"
   ]
  },
  {
   "attachments": {},
   "cell_type": "markdown",
   "metadata": {},
   "source": [
    "## 逻辑回归分类器"
   ]
  },
  {
   "cell_type": "code",
   "execution_count": 4,
   "metadata": {},
   "outputs": [
    {
     "name": "stdout",
     "output_type": "stream",
     "text": [
      "val mean accuracy: 0.7829099307159353\n",
      "              precision    recall  f1-score   support\n",
      "\n",
      "          喜剧       0.81      0.93      0.87       541\n",
      "          犯罪       0.84      0.65      0.73       325\n",
      "\n",
      "    accuracy                           0.82       866\n",
      "   macro avg       0.83      0.79      0.80       866\n",
      "weighted avg       0.83      0.82      0.82       866\n",
      "\n"
     ]
    }
   ],
   "source": [
    "from sklearn.linear_model import LogisticRegression\n",
    "from sklearn.metrics import classification_report\n",
    "\n",
    "lr_model = LogisticRegression()\n",
    "lr_model.fit(train_set, train_label)\n",
    "print( \"val mean accuracy: {0}\".format(lr_model.score(val_set, val_label)))\n",
    "y_pred = lr_model.predict(test_set)\n",
    "print(classification_report(test_label, y_pred,target_names=['喜剧', '犯罪']))\n"
   ]
  },
  {
   "attachments": {},
   "cell_type": "markdown",
   "metadata": {},
   "source": [
    "## 随机森林分类器"
   ]
  },
  {
   "cell_type": "code",
   "execution_count": 5,
   "metadata": {},
   "outputs": [
    {
     "name": "stdout",
     "output_type": "stream",
     "text": [
      "val mean accuracy: 0.7794457274826789\n",
      "              precision    recall  f1-score   support\n",
      "\n",
      "          喜剧       0.78      0.92      0.85       541\n",
      "          犯罪       0.82      0.58      0.68       325\n",
      "\n",
      "    accuracy                           0.79       866\n",
      "   macro avg       0.80      0.75      0.76       866\n",
      "weighted avg       0.80      0.79      0.78       866\n",
      "\n"
     ]
    }
   ],
   "source": [
    "from sklearn.ensemble import RandomForestClassifier    \n",
    "\n",
    "rf_model = RandomForestClassifier(n_estimators=200, random_state=1080)\n",
    "rf_model.fit(train_set, train_label)\n",
    "print( \"val mean accuracy: {0}\".format(rf_model.score(val_set, val_label)))\n",
    "y_pred = rf_model.predict(test_set)\n",
    "print(classification_report(test_label, y_pred,target_names=['喜剧', '犯罪']))"
   ]
  },
  {
   "cell_type": "code",
   "execution_count": null,
   "metadata": {},
   "outputs": [],
   "source": []
  }
 ],
 "metadata": {
  "kernelspec": {
   "display_name": "szh",
   "language": "python",
   "name": "python3"
  },
  "language_info": {
   "codemirror_mode": {
    "name": "ipython",
    "version": 3
   },
   "file_extension": ".py",
   "mimetype": "text/x-python",
   "name": "python",
   "nbconvert_exporter": "python",
   "pygments_lexer": "ipython3",
   "version": "3.9.12 | packaged by conda-forge | (main, Mar 24 2022, 23:17:03) [MSC v.1929 64 bit (AMD64)]"
  },
  "orig_nbformat": 4,
  "vscode": {
   "interpreter": {
    "hash": "4fd42711a2e3f996a23cc31e0821bdaf13b16e29b62b2c68c05b3a5213dd0b8a"
   }
  }
 },
 "nbformat": 4,
 "nbformat_minor": 2
}
